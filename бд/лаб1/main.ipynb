{
 "cells": [
  {
   "cell_type": "code",
   "execution_count": 10,
   "metadata": {},
   "outputs": [],
   "source": [
    "import psycopg2\n",
    "import time\n",
    "import threading\n",
    "import random"
   ]
  },
  {
   "cell_type": "code",
   "execution_count": 11,
   "metadata": {},
   "outputs": [],
   "source": [
    "username = 'ruslan'\n",
    "password = '1111'\n",
    "database = 'lab1DB'\n",
    "host = 'localhost'\n",
    "port = '5432'"
   ]
  },
  {
   "cell_type": "code",
   "execution_count": 12,
   "metadata": {},
   "outputs": [],
   "source": [
    "def printdb(user_id):\n",
    "    conn = psycopg2.connect(user=username, password=password, dbname=database, host=host, port=port)\n",
    "    cursor = conn.cursor()\n",
    "\n",
    "    cursor.execute(\"SELECT * FROM user_counter WHERE user_id = %s\", (user_id,))\n",
    "    row = cursor.fetchall()\n",
    "    print(row)\n",
    "\n",
    "    cursor.close()\n",
    "    conn.close()"
   ]
  },
  {
   "cell_type": "code",
   "execution_count": 13,
   "metadata": {},
   "outputs": [],
   "source": [
    "def create_db():\n",
    "    conn = psycopg2.connect(user=username, password=password, dbname=database, host=host, port=port)\n",
    "    cursor = conn.cursor()\n",
    "\n",
    "    cursor.execute(\"\"\"\n",
    "        CREATE TABLE IF NOT EXISTS user_counter (\n",
    "            USER_ID SERIAL PRIMARY KEY,\n",
    "            Counter INTEGER,\n",
    "            Version INTEGER\n",
    "        );\n",
    "    \"\"\")\n",
    "    for i in range(1, 100001):\n",
    "        cursor.execute(\"INSERT INTO user_counter (Counter, Version) VALUES (%s, %s)\", (i, 0))\n",
    "    conn.commit()\n",
    "    cursor.close()\n",
    "    conn.close()\n",
    "\n",
    "# create_db()"
   ]
  },
  {
   "cell_type": "code",
   "execution_count": 14,
   "metadata": {},
   "outputs": [],
   "source": [
    "def lost_update(user_id):\n",
    "\t\n",
    "    conn = psycopg2.connect(user=username, password=password, dbname=database, host=host, port=port)\n",
    "    cursor = conn.cursor()\n",
    "\n",
    "    for _ in range(10000):\n",
    "        cursor.execute(\"SELECT counter FROM user_counter WHERE user_id = %s\", (user_id,))\n",
    "        counter = cursor.fetchone()[0]\n",
    "        counter += 1\n",
    "        cursor.execute(\"UPDATE user_counter SET counter = %s WHERE user_id = %s\", (counter, user_id,))\n",
    "        conn.commit()\n",
    "\n",
    "    cursor.close()\n",
    "    conn.close()"
   ]
  },
  {
   "cell_type": "code",
   "execution_count": 15,
   "metadata": {},
   "outputs": [],
   "source": [
    "def in_place_update(user_id):\n",
    "\n",
    "    conn = psycopg2.connect(user=username, password=password, dbname=database, host=host, port=port)\n",
    "    cursor = conn.cursor()\n",
    "\n",
    "    for _ in range(10000):\n",
    "        cursor.execute(\"UPDATE user_counter SET counter = counter + 1 where user_id = %s\", (user_id,))\n",
    "        conn.commit()\n",
    "\n",
    "    cursor.close()\n",
    "    conn.close()"
   ]
  },
  {
   "cell_type": "code",
   "execution_count": 16,
   "metadata": {},
   "outputs": [],
   "source": [
    "def row_level_locking(user_id):\n",
    "    \n",
    "    conn = psycopg2.connect(user=username, password=password, dbname=database, host=host, port=port)\n",
    "    cursor = conn.cursor()\n",
    "\n",
    "    for _ in range(10000):\n",
    "        cursor.execute((\"SELECT counter FROM user_counter WHERE user_id = %s FOR UPDATE\"), (user_id,))\n",
    "        counter = cursor.fetchone()[0]\n",
    "        counter += 1\n",
    "        cursor.execute(\"UPDATE user_counter SET counter = %s WHERE user_id = %s\", (counter, user_id,))\n",
    "        conn.commit()\n",
    "\n",
    "    cursor.close()\n",
    "    conn.close()"
   ]
  },
  {
   "cell_type": "code",
   "execution_count": 17,
   "metadata": {},
   "outputs": [],
   "source": [
    "def optimistic_concurrency_control(user_id):\n",
    "    \n",
    "    conn = psycopg2.connect(user=username, password=password, dbname=database, host=host, port=port)\n",
    "    cursor = conn.cursor()\n",
    "\n",
    "    for _ in range(10000):\n",
    "        while True:\n",
    "            cursor.execute(\"SELECT counter, version FROM user_counter WHERE user_id = %s\", (user_id,))\n",
    "            counter, version = cursor.fetchone()\n",
    "            counter = counter + 1\n",
    "            cursor.execute(\"UPDATE user_counter SET counter = %s, version = %s WHERE user_id = %s and version = %s\", (counter, version + 1, user_id, version))\n",
    "            conn.commit()\n",
    "            count = cursor.rowcount\n",
    "            if count > 0:\n",
    "                break\n",
    "\n",
    "    cursor.close()\n",
    "    conn.close()"
   ]
  },
  {
   "cell_type": "code",
   "execution_count": 18,
   "metadata": {},
   "outputs": [
    {
     "name": "stdout",
     "output_type": "stream",
     "text": [
      "lost_update, user_id = 1, time = 41.334161043167114s\n",
      "in_place_update, user_id = 1, time = 42.94075059890747s\n",
      "row_level_locking, user_id = 1, time = 112.79331731796265s\n",
      "optimistic_concurrency_control, user_id = 1, time = 189.1228792667389s\n",
      "\n",
      "lost_update, user_id = 22304, time = 41.11386489868164s\n",
      "in_place_update, user_id = 22304, time = 43.847917556762695s\n",
      "row_level_locking, user_id = 22304, time = 107.99418568611145s\n",
      "optimistic_concurrency_control, user_id = 22304, time = 181.58032131195068s\n"
     ]
    }
   ],
   "source": [
    "def execution_time(name_operation, target, user_id=1):\n",
    "\n",
    "    threads = []\n",
    "    start_time = time.time()\n",
    "    for _ in range(10):\n",
    "        thread = threading.Thread(target=target, args=(user_id,))\n",
    "        threads.append(thread)\n",
    "        thread.start()\n",
    "\n",
    "    for t in threads:\n",
    "        t.join()\n",
    "\n",
    "    print(f\"{name_operation}, user_id = {user_id}, time = {time.time() - start_time}s\")\n",
    "\n",
    "    conn = psycopg2.connect(user=username, password=password, dbname=database, host=host, port=port)\n",
    "    cursor = conn.cursor()\n",
    "\n",
    "    cursor.execute(\"UPDATE user_counter SET counter = %s, version = 0 where user_id = %s\", (user_id, user_id,))\n",
    "    conn.commit()\n",
    "\n",
    "    cursor.close()\n",
    "    conn.close()\n",
    "\n",
    "execution_time(\"lost_update\", lost_update)\n",
    "execution_time(\"in_place_update\", in_place_update)\n",
    "execution_time(\"row_level_locking\", row_level_locking)\n",
    "execution_time(\"optimistic_concurrency_control\", optimistic_concurrency_control)\n",
    "print()\n",
    "\n",
    "random_number = random.randint(1, 100000)\n",
    "execution_time(\"lost_update\", lost_update, random_number)\n",
    "execution_time(\"in_place_update\", in_place_update, random_number)\n",
    "execution_time(\"row_level_locking\", row_level_locking, random_number)\n",
    "execution_time(\"optimistic_concurrency_control\", optimistic_concurrency_control, random_number)"
   ]
  },
  {
   "cell_type": "code",
   "execution_count": 19,
   "metadata": {},
   "outputs": [],
   "source": [
    "# lost_update, user_id = 1, time = 39.00321912765503s\n",
    "# in_place_update, user_id = 1, time = 43.827351093292236s\n",
    "# row_level_locking, user_id = 1, time = 108.34298801422119s\n",
    "# optimistic_concurrency_control, user_id = 1, time = 193.67018604278564s\n",
    "\n",
    "# lost_update, user_id = 36162, time = 37.0974497795105s\n",
    "# in_place_update, user_id = 36162, time = 46.54637026786804s\n",
    "# row_level_locking, user_id = 36162, time = 108.20453691482544s\n",
    "# optimistic_concurrency_control, user_id = 36162, time = 197.93598079681396s"
   ]
  }
 ],
 "metadata": {
  "kernelspec": {
   "display_name": "Python 3",
   "language": "python",
   "name": "python3"
  },
  "language_info": {
   "codemirror_mode": {
    "name": "ipython",
    "version": 3
   },
   "file_extension": ".py",
   "mimetype": "text/x-python",
   "name": "python",
   "nbconvert_exporter": "python",
   "pygments_lexer": "ipython3",
   "version": "3.12.3"
  }
 },
 "nbformat": 4,
 "nbformat_minor": 2
}
