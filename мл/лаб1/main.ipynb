{
 "cells": [
  {
   "cell_type": "markdown",
   "metadata": {},
   "source": [
    "Лабораторна робота №1. Використання бібліотек Pandas та Matplotlib"
   ]
  },
  {
   "cell_type": "code",
   "execution_count": 149,
   "metadata": {},
   "outputs": [],
   "source": [
    "import pandas as pd"
   ]
  },
  {
   "cell_type": "code",
   "execution_count": 150,
   "metadata": {},
   "outputs": [],
   "source": [
    "# 1. Відкрити та зчитати файл з даними. \n",
    "df = pd.read_csv('Weather.csv')\n",
    "df.columns = df.columns.str.strip()"
   ]
  },
  {
   "cell_type": "code",
   "execution_count": 151,
   "metadata": {},
   "outputs": [
    {
     "data": {
      "text/plain": [
       "(6812, 23)"
      ]
     },
     "execution_count": 151,
     "metadata": {},
     "output_type": "execute_result"
    }
   ],
   "source": [
    "# 2. Визначити та вивести кількість записів та кількість полів у кожному записі. \n",
    "df.shape"
   ]
  },
  {
   "cell_type": "code",
   "execution_count": 152,
   "metadata": {},
   "outputs": [
    {
     "data": {
      "text/html": [
       "<div>\n",
       "<style scoped>\n",
       "    .dataframe tbody tr th:only-of-type {\n",
       "        vertical-align: middle;\n",
       "    }\n",
       "\n",
       "    .dataframe tbody tr th {\n",
       "        vertical-align: top;\n",
       "    }\n",
       "\n",
       "    .dataframe thead th {\n",
       "        text-align: right;\n",
       "    }\n",
       "</style>\n",
       "<table border=\"1\" class=\"dataframe\">\n",
       "  <thead>\n",
       "    <tr style=\"text-align: right;\">\n",
       "      <th></th>\n",
       "      <th>CET</th>\n",
       "      <th>Max TemperatureC</th>\n",
       "      <th>Mean TemperatureC</th>\n",
       "      <th>Min TemperatureC</th>\n",
       "      <th>Dew PointC</th>\n",
       "      <th>MeanDew PointC</th>\n",
       "      <th>Min DewpointC</th>\n",
       "      <th>Max Humidity</th>\n",
       "      <th>Mean Humidity</th>\n",
       "      <th>Min Humidity</th>\n",
       "      <th>...</th>\n",
       "      <th>Max VisibilityKm</th>\n",
       "      <th>Mean VisibilityKm</th>\n",
       "      <th>Min VisibilitykM</th>\n",
       "      <th>Max Wind SpeedKm/h</th>\n",
       "      <th>Mean Wind SpeedKm/h</th>\n",
       "      <th>Max Gust SpeedKm/h</th>\n",
       "      <th>Precipitationmm</th>\n",
       "      <th>CloudCover</th>\n",
       "      <th>Events</th>\n",
       "      <th>WindDirDegrees</th>\n",
       "    </tr>\n",
       "  </thead>\n",
       "  <tbody>\n",
       "    <tr>\n",
       "      <th>12</th>\n",
       "      <td>1997-1-13</td>\n",
       "      <td>15.0</td>\n",
       "      <td>9.0</td>\n",
       "      <td>4.0</td>\n",
       "      <td>9.0</td>\n",
       "      <td>4.0</td>\n",
       "      <td>-1.0</td>\n",
       "      <td>100.0</td>\n",
       "      <td>75.0</td>\n",
       "      <td>38.0</td>\n",
       "      <td>...</td>\n",
       "      <td>10.0</td>\n",
       "      <td>9.0</td>\n",
       "      <td>3.0</td>\n",
       "      <td>11</td>\n",
       "      <td>2</td>\n",
       "      <td>NaN</td>\n",
       "      <td>0.0</td>\n",
       "      <td>4.0</td>\n",
       "      <td>Fog</td>\n",
       "      <td>128</td>\n",
       "    </tr>\n",
       "    <tr>\n",
       "      <th>3612</th>\n",
       "      <td>2007-3-29</td>\n",
       "      <td>14.0</td>\n",
       "      <td>9.0</td>\n",
       "      <td>5.0</td>\n",
       "      <td>3.0</td>\n",
       "      <td>2.0</td>\n",
       "      <td>-1.0</td>\n",
       "      <td>81.0</td>\n",
       "      <td>61.0</td>\n",
       "      <td>38.0</td>\n",
       "      <td>...</td>\n",
       "      <td>10.0</td>\n",
       "      <td>10.0</td>\n",
       "      <td>10.0</td>\n",
       "      <td>26</td>\n",
       "      <td>14</td>\n",
       "      <td>NaN</td>\n",
       "      <td>0.0</td>\n",
       "      <td>3.0</td>\n",
       "      <td>NaN</td>\n",
       "      <td>12</td>\n",
       "    </tr>\n",
       "  </tbody>\n",
       "</table>\n",
       "<p>2 rows × 23 columns</p>\n",
       "</div>"
      ],
      "text/plain": [
       "            CET  Max TemperatureC  Mean TemperatureC  Min TemperatureC  \\\n",
       "12    1997-1-13              15.0                9.0               4.0   \n",
       "3612  2007-3-29              14.0                9.0               5.0   \n",
       "\n",
       "      Dew PointC  MeanDew PointC  Min DewpointC  Max Humidity  Mean Humidity  \\\n",
       "12           9.0             4.0           -1.0         100.0           75.0   \n",
       "3612         3.0             2.0           -1.0          81.0           61.0   \n",
       "\n",
       "      Min Humidity  ...  Max VisibilityKm  Mean VisibilityKm  \\\n",
       "12            38.0  ...              10.0                9.0   \n",
       "3612          38.0  ...              10.0               10.0   \n",
       "\n",
       "      Min VisibilitykM  Max Wind SpeedKm/h  Mean Wind SpeedKm/h  \\\n",
       "12                 3.0                  11                    2   \n",
       "3612              10.0                  26                   14   \n",
       "\n",
       "      Max Gust SpeedKm/h  Precipitationmm  CloudCover  Events  WindDirDegrees  \n",
       "12                   NaN              0.0         4.0     Fog             128  \n",
       "3612                 NaN              0.0         3.0     NaN              12  \n",
       "\n",
       "[2 rows x 23 columns]"
      ]
     },
     "execution_count": 152,
     "metadata": {},
     "output_type": "execute_result"
    }
   ],
   "source": [
    "# 3. Вивести 5 записів, починаючи з М-ого (число М – місяць народження\n",
    "# студента, має бути визначено як змінна), та кожен N-ий запис, де число\n",
    "# N визначається як 500 * М для місяця з першого півріччя та 300 * М для\n",
    "# місяця з другого півріччя\n",
    "m = 12\n",
    "n = 300 * m\n",
    "\n",
    "df.iloc[m::n].head(5)"
   ]
  },
  {
   "cell_type": "code",
   "execution_count": 153,
   "metadata": {},
   "outputs": [
    {
     "data": {
      "text/plain": [
       "CET                            object\n",
       "Max TemperatureC              float64\n",
       "Mean TemperatureC             float64\n",
       "Min TemperatureC              float64\n",
       "Dew PointC                    float64\n",
       "MeanDew PointC                float64\n",
       "Min DewpointC                 float64\n",
       "Max Humidity                  float64\n",
       "Mean Humidity                 float64\n",
       "Min Humidity                  float64\n",
       "Max Sea Level PressurehPa       int64\n",
       "Mean Sea Level PressurehPa      int64\n",
       "Min Sea Level PressurehPa       int64\n",
       "Max VisibilityKm              float64\n",
       "Mean VisibilityKm             float64\n",
       "Min VisibilitykM              float64\n",
       "Max Wind SpeedKm/h              int64\n",
       "Mean Wind SpeedKm/h             int64\n",
       "Max Gust SpeedKm/h            float64\n",
       "Precipitationmm               float64\n",
       "CloudCover                    float64\n",
       "Events                         object\n",
       "WindDirDegrees                  int64\n",
       "dtype: object"
      ]
     },
     "execution_count": 153,
     "metadata": {},
     "output_type": "execute_result"
    }
   ],
   "source": [
    "# 4. Визначити та вивести тип полів кожного запису. \n",
    "df.dtypes"
   ]
  },
  {
   "cell_type": "code",
   "execution_count": 154,
   "metadata": {},
   "outputs": [
    {
     "data": {
      "text/html": [
       "<div>\n",
       "<style scoped>\n",
       "    .dataframe tbody tr th:only-of-type {\n",
       "        vertical-align: middle;\n",
       "    }\n",
       "\n",
       "    .dataframe tbody tr th {\n",
       "        vertical-align: top;\n",
       "    }\n",
       "\n",
       "    .dataframe thead th {\n",
       "        text-align: right;\n",
       "    }\n",
       "</style>\n",
       "<table border=\"1\" class=\"dataframe\">\n",
       "  <thead>\n",
       "    <tr style=\"text-align: right;\">\n",
       "      <th></th>\n",
       "      <th>CET</th>\n",
       "      <th>Max TemperatureC</th>\n",
       "      <th>Mean TemperatureC</th>\n",
       "      <th>Min TemperatureC</th>\n",
       "      <th>Dew PointC</th>\n",
       "      <th>MeanDew PointC</th>\n",
       "      <th>Min DewpointC</th>\n",
       "      <th>Max Humidity</th>\n",
       "      <th>Mean Humidity</th>\n",
       "      <th>Min Humidity</th>\n",
       "      <th>...</th>\n",
       "      <th>Max VisibilityKm</th>\n",
       "      <th>Mean VisibilityKm</th>\n",
       "      <th>Min VisibilitykM</th>\n",
       "      <th>Max Wind SpeedKm/h</th>\n",
       "      <th>Mean Wind SpeedKm/h</th>\n",
       "      <th>Max Gust SpeedKm/h</th>\n",
       "      <th>Precipitationmm</th>\n",
       "      <th>CloudCover</th>\n",
       "      <th>Events</th>\n",
       "      <th>WindDirDegrees</th>\n",
       "    </tr>\n",
       "  </thead>\n",
       "  <tbody>\n",
       "    <tr>\n",
       "      <th>0</th>\n",
       "      <td>01-01-1997</td>\n",
       "      <td>7.0</td>\n",
       "      <td>4.0</td>\n",
       "      <td>2.0</td>\n",
       "      <td>5.0</td>\n",
       "      <td>3.0</td>\n",
       "      <td>2.0</td>\n",
       "      <td>100.0</td>\n",
       "      <td>95.0</td>\n",
       "      <td>76.0</td>\n",
       "      <td>...</td>\n",
       "      <td>10.0</td>\n",
       "      <td>9.0</td>\n",
       "      <td>4.0</td>\n",
       "      <td>13</td>\n",
       "      <td>6</td>\n",
       "      <td>NaN</td>\n",
       "      <td>0.0</td>\n",
       "      <td>6.0</td>\n",
       "      <td>NaN</td>\n",
       "      <td>229</td>\n",
       "    </tr>\n",
       "    <tr>\n",
       "      <th>1</th>\n",
       "      <td>02-01-1997</td>\n",
       "      <td>7.0</td>\n",
       "      <td>3.0</td>\n",
       "      <td>0.0</td>\n",
       "      <td>6.0</td>\n",
       "      <td>3.0</td>\n",
       "      <td>0.0</td>\n",
       "      <td>100.0</td>\n",
       "      <td>92.0</td>\n",
       "      <td>71.0</td>\n",
       "      <td>...</td>\n",
       "      <td>10.0</td>\n",
       "      <td>9.0</td>\n",
       "      <td>4.0</td>\n",
       "      <td>26</td>\n",
       "      <td>8</td>\n",
       "      <td>47.0</td>\n",
       "      <td>0.0</td>\n",
       "      <td>5.0</td>\n",
       "      <td>Rain</td>\n",
       "      <td>143</td>\n",
       "    </tr>\n",
       "    <tr>\n",
       "      <th>2</th>\n",
       "      <td>03-01-1997</td>\n",
       "      <td>5.0</td>\n",
       "      <td>3.0</td>\n",
       "      <td>2.0</td>\n",
       "      <td>5.0</td>\n",
       "      <td>1.0</td>\n",
       "      <td>-1.0</td>\n",
       "      <td>100.0</td>\n",
       "      <td>85.0</td>\n",
       "      <td>70.0</td>\n",
       "      <td>...</td>\n",
       "      <td>10.0</td>\n",
       "      <td>10.0</td>\n",
       "      <td>7.0</td>\n",
       "      <td>27</td>\n",
       "      <td>19</td>\n",
       "      <td>NaN</td>\n",
       "      <td>0.0</td>\n",
       "      <td>6.0</td>\n",
       "      <td>Rain-Snow</td>\n",
       "      <td>256</td>\n",
       "    </tr>\n",
       "    <tr>\n",
       "      <th>3</th>\n",
       "      <td>04-01-1997</td>\n",
       "      <td>7.0</td>\n",
       "      <td>3.0</td>\n",
       "      <td>-1.0</td>\n",
       "      <td>-2.0</td>\n",
       "      <td>-3.0</td>\n",
       "      <td>-4.0</td>\n",
       "      <td>86.0</td>\n",
       "      <td>63.0</td>\n",
       "      <td>49.0</td>\n",
       "      <td>...</td>\n",
       "      <td>10.0</td>\n",
       "      <td>10.0</td>\n",
       "      <td>10.0</td>\n",
       "      <td>27</td>\n",
       "      <td>19</td>\n",
       "      <td>40.0</td>\n",
       "      <td>0.0</td>\n",
       "      <td>2.0</td>\n",
       "      <td>NaN</td>\n",
       "      <td>284</td>\n",
       "    </tr>\n",
       "    <tr>\n",
       "      <th>4</th>\n",
       "      <td>05-01-1997</td>\n",
       "      <td>2.0</td>\n",
       "      <td>0.0</td>\n",
       "      <td>-1.0</td>\n",
       "      <td>2.0</td>\n",
       "      <td>0.0</td>\n",
       "      <td>-3.0</td>\n",
       "      <td>100.0</td>\n",
       "      <td>95.0</td>\n",
       "      <td>86.0</td>\n",
       "      <td>...</td>\n",
       "      <td>10.0</td>\n",
       "      <td>5.0</td>\n",
       "      <td>1.0</td>\n",
       "      <td>14</td>\n",
       "      <td>6</td>\n",
       "      <td>NaN</td>\n",
       "      <td>0.0</td>\n",
       "      <td>7.0</td>\n",
       "      <td>Snow</td>\n",
       "      <td>2</td>\n",
       "    </tr>\n",
       "  </tbody>\n",
       "</table>\n",
       "<p>5 rows × 23 columns</p>\n",
       "</div>"
      ],
      "text/plain": [
       "          CET  Max TemperatureC  Mean TemperatureC  Min TemperatureC  \\\n",
       "0  01-01-1997               7.0                4.0               2.0   \n",
       "1  02-01-1997               7.0                3.0               0.0   \n",
       "2  03-01-1997               5.0                3.0               2.0   \n",
       "3  04-01-1997               7.0                3.0              -1.0   \n",
       "4  05-01-1997               2.0                0.0              -1.0   \n",
       "\n",
       "   Dew PointC  MeanDew PointC  Min DewpointC  Max Humidity  Mean Humidity  \\\n",
       "0         5.0             3.0            2.0         100.0           95.0   \n",
       "1         6.0             3.0            0.0         100.0           92.0   \n",
       "2         5.0             1.0           -1.0         100.0           85.0   \n",
       "3        -2.0            -3.0           -4.0          86.0           63.0   \n",
       "4         2.0             0.0           -3.0         100.0           95.0   \n",
       "\n",
       "   Min Humidity  ...  Max VisibilityKm  Mean VisibilityKm  Min VisibilitykM  \\\n",
       "0          76.0  ...              10.0                9.0               4.0   \n",
       "1          71.0  ...              10.0                9.0               4.0   \n",
       "2          70.0  ...              10.0               10.0               7.0   \n",
       "3          49.0  ...              10.0               10.0              10.0   \n",
       "4          86.0  ...              10.0                5.0               1.0   \n",
       "\n",
       "   Max Wind SpeedKm/h  Mean Wind SpeedKm/h  Max Gust SpeedKm/h  \\\n",
       "0                  13                    6                 NaN   \n",
       "1                  26                    8                47.0   \n",
       "2                  27                   19                 NaN   \n",
       "3                  27                   19                40.0   \n",
       "4                  14                    6                 NaN   \n",
       "\n",
       "   Precipitationmm  CloudCover     Events  WindDirDegrees  \n",
       "0              0.0         6.0        NaN             229  \n",
       "1              0.0         5.0       Rain             143  \n",
       "2              0.0         6.0  Rain-Snow             256  \n",
       "3              0.0         2.0        NaN             284  \n",
       "4              0.0         7.0       Snow               2  \n",
       "\n",
       "[5 rows x 23 columns]"
      ]
     },
     "execution_count": 154,
     "metadata": {},
     "output_type": "execute_result"
    }
   ],
   "source": [
    "# 5. Замість поля СЕТ ввести нові текстові поля, що відповідають числу, \n",
    "# місяцю та року. Місяць та число повинні бути записані у\n",
    "# двоцифровому форматі.\n",
    "df['CET'] = df['CET'].apply(lambda x: \"{:02d}-{:02d}-{}\".format(*map(int, x.split(\"-\")[::-1])))\n",
    "df.head()"
   ]
  },
  {
   "cell_type": "code",
   "execution_count": 155,
   "metadata": {},
   "outputs": [
    {
     "name": "stdout",
     "output_type": "stream",
     "text": [
      "a)  5014\n",
      "b)               CET  Max Wind SpeedKm/h  Mean Wind SpeedKm/h\n",
      "3012  06-08-2005                  14                   10\n",
      "c)  [1, 2, 3, 4, 11, 12]\n"
     ]
    }
   ],
   "source": [
    "# 6. Визначити та вивести: \n",
    "# a. Кількість днів із порожнім значенням поля Events\n",
    "print(\"a) \", df[\"Events\"].isna().sum())\n",
    "\n",
    "# b. День, у який середня вологість була мінімальною, а також\n",
    "# швидкості вітру в цей день\n",
    "print(\"b) \", df[df[\"Mean Humidity\"] == df[\"Mean Humidity\"].min()][[\"CET\", \"Max Wind SpeedKm/h\", \"Mean Wind SpeedKm/h\"]])\n",
    "\n",
    "# c. Місяці, коли середня температура від нуля до п’яти градусів\n",
    "df[['day', 'month', 'year']] = df['CET'].str.split('-', expand=True).astype(int)\n",
    "\n",
    "filtered_df = df[(df['Mean TemperatureC'] >= 0) & (df['Mean TemperatureC'] <= 5)]\n",
    "unique_cet_values = sorted(filtered_df[\"month\"].unique().tolist())\n",
    "\n",
    "print(\"c) \", unique_cet_values)\n"
   ]
  },
  {
   "cell_type": "code",
   "execution_count": 156,
   "metadata": {},
   "outputs": [
    {
     "name": "stdout",
     "output_type": "stream",
     "text": [
      "a)  day\n",
      "1    20.791111\n",
      "2    20.878924\n",
      "3    20.748879\n",
      "4    20.924107\n",
      "5    21.022321\n",
      "Name: Max TemperatureC, dtype: float64\n",
      "b)  year\n",
      "1997    27\n",
      "1998    17\n",
      "1999    17\n",
      "2000    15\n",
      "2001    13\n",
      "Name: Events, dtype: int64\n"
     ]
    }
   ],
   "source": [
    "# 7. Визначити та вивести: \n",
    "# a. Середню максимальну температуру по кожному дню за всі роки\n",
    "print(\"a) \", df.groupby('day')['Max TemperatureC'].mean().head())\n",
    "# b. Кількість днів у кожному році з туманом\n",
    "print(\"b) \", df[df['Events'].str.contains('Fog', na=False)].groupby('year')['Events'].count().head())"
   ]
  },
  {
   "cell_type": "code",
   "execution_count": 157,
   "metadata": {},
   "outputs": [],
   "source": [
    "import matplotlib.pyplot as plt"
   ]
  },
  {
   "cell_type": "code",
   "execution_count": 158,
   "metadata": {},
   "outputs": [
    {
     "data": {
      "image/png": "[encoded data removed]",
      "text/plain": [
       "<Figure size 640x480 with 1 Axes>"
      ]
     },
     "metadata": {},
     "output_type": "display_data"
    }
   ],
   "source": [
    "# 8. Побудувати стовпчикову діаграму кількості Events. \n",
    "event_counts = df['Events'].value_counts()\n",
    "event_counts.plot(kind='bar')\n",
    "plt.xlabel('')\n",
    "plt.show()"
   ]
  },
  {
   "cell_type": "code",
   "execution_count": 159,
   "metadata": {},
   "outputs": [
    {
     "data": {
      "image/png": "[encoded data removed]",
      "text/plain": [
       "<Figure size 640x480 with 1 Axes>"
      ]
     },
     "metadata": {},
     "output_type": "display_data"
    }
   ],
   "source": [
    "# 9. Побудувати кругову діаграму напрямків вітру (сектор на діаграмі має\n",
    "# відповідати одному з восьми напрямків – північний, південний, східний, \n",
    "# західний та проміжні).\n",
    "\n",
    "directions_dict = {\n",
    "    (0, 45): 'північ',\n",
    "    (45, 90): 'північний-схід',\n",
    "    (90, 135): 'схід',\n",
    "    (135, 180): 'південний-схід',\n",
    "    (180, 225): 'південь',\n",
    "    (225, 270): 'південний-захід',\n",
    "    (270, 315): 'захід',\n",
    "    (315, 360): 'північний-захід'\n",
    "}\n",
    "\n",
    "def get_wind_direction(degrees):\n",
    "    for direction_range, direction_name in directions_dict.items():\n",
    "        if direction_range[0] <= degrees < direction_range[1]:\n",
    "            return direction_name\n",
    "\n",
    "df[\"directions\"] = df[\"WindDirDegrees\"].apply(get_wind_direction)\n",
    "\n",
    "direction_counts = df['directions'].value_counts()\n",
    "direction_counts.plot(kind='pie')\n",
    "plt.ylabel('')\n",
    "plt.show()"
   ]
  },
  {
   "cell_type": "code",
   "execution_count": 160,
   "metadata": {},
   "outputs": [
    {
     "data": {
      "text/plain": [
       "dict_items([((0, 45), 'північ'), ((45, 90), 'північний-схід'), ((90, 135), 'схід'), ((135, 180), 'південний-схід'), ((180, 225), 'південь'), ((225, 270), 'південний-захід'), ((270, 315), 'захід'), ((315, 360), 'північний-захід')])"
      ]
     },
     "execution_count": 160,
     "metadata": {},
     "output_type": "execute_result"
    }
   ],
   "source": [
    "directions_dict.items()"
   ]
  },
  {
   "cell_type": "code",
   "execution_count": 161,
   "metadata": {},
   "outputs": [
    {
     "data": {
      "image/png": "[encoded data removed]",
      "text/plain": [
       "<Figure size 640x480 with 1 Axes>"
      ]
     },
     "metadata": {},
     "output_type": "display_data"
    }
   ],
   "source": [
    "# 10. Побудувати на одному графіку (тип графіка обрати самостійно!): \n",
    "# a. Середню по кожному місяцю кожного року максимальну температуру; \n",
    "temperatures = df.groupby('month')['Max TemperatureC'].mean()\n",
    "plt.plot(range(1,13), temperatures, marker=\"o\")\n",
    "\n",
    "\n",
    "# b. Середню по кожному місяцю кожного року мінімальну точку роси.\n",
    "dewpoints = df.groupby('month')['Min DewpointC'].mean()\n",
    "# plt.title('Середню по кожному місяцю кожного року мінімальну точку роси')\n",
    "plt.plot(range(1,13), dewpoints, marker=\"o\")\n",
    "plt.show()"
   ]
  },
  {
   "cell_type": "code",
   "execution_count": 162,
   "metadata": {},
   "outputs": [
    {
     "data": {
      "text/plain": [
       "CET                            object\n",
       "Max TemperatureC              float64\n",
       "Mean TemperatureC             float64\n",
       "Min TemperatureC              float64\n",
       "Dew PointC                    float64\n",
       "MeanDew PointC                float64\n",
       "Min DewpointC                 float64\n",
       "Max Humidity                  float64\n",
       "Mean Humidity                 float64\n",
       "Min Humidity                  float64\n",
       "Max Sea Level PressurehPa       int64\n",
       "Mean Sea Level PressurehPa      int64\n",
       "Min Sea Level PressurehPa       int64\n",
       "Max VisibilityKm              float64\n",
       "Mean VisibilityKm             float64\n",
       "Min VisibilitykM              float64\n",
       "Max Wind SpeedKm/h              int64\n",
       "Mean Wind SpeedKm/h             int64\n",
       "Max Gust SpeedKm/h            float64\n",
       "Precipitationmm               float64\n",
       "CloudCover                    float64\n",
       "Events                         object\n",
       "WindDirDegrees                  int64\n",
       "dtype: object"
      ]
     },
     "execution_count": 162,
     "metadata": {},
     "output_type": "execute_result"
    }
   ],
   "source": [
    "df.drop(columns=[\"directions\", 'day', 'month', 'year'], inplace=True)\n",
    "df.dtypes"
   ]
  }
 ],
 "metadata": {
  "kernelspec": {
   "display_name": "Python 3",
   "language": "python",
   "name": "python3"
  },
  "language_info": {
   "codemirror_mode": {
    "name": "ipython",
    "version": 3
   },
   "file_extension": ".py",
   "mimetype": "text/x-python",
   "name": "python",
   "nbconvert_exporter": "python",
   "pygments_lexer": "ipython3",
   "version": "3.12.2"
  }
 },
 "nbformat": 4,
 "nbformat_minor": 2
}
